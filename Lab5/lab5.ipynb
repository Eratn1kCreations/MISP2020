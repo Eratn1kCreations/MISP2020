{
 "metadata": {
  "language_info": {
   "codemirror_mode": {
    "name": "ipython",
    "version": 3
   },
   "file_extension": ".py",
   "mimetype": "text/x-python",
   "name": "python",
   "nbconvert_exporter": "python",
   "pygments_lexer": "ipython3",
   "version": "3.8.2-final"
  },
  "orig_nbformat": 2,
  "kernelspec": {
   "name": "python3",
   "display_name": "Python 3.8.2 32-bit",
   "metadata": {
    "interpreter": {
     "hash": "043792a4145a11e703eb0d0c0a933b88a7ecde794afa4caa1798b22df72c9741"
    }
   }
  }
 },
 "nbformat": 4,
 "nbformat_minor": 2,
 "cells": [
  {
   "source": [
    "## Problem tworzenia grafiku:\n",
    "Znając stawki pracowników oraz wymaganą normę pracy danego dnia w tygodniu należy ułożyć grafik przy którym koszt zatrudnienia będzie minimalną funkcją celu.\n",
    "\n",
    "### Ograniczeniami są:\n",
    "- dostępność pracowników\n",
    "- maksymalna liczba dni pracy jednego pracownika\n",
    "- dzienna norma\n",
    "\n",
    "### Dane wejściowe wyglądają następująco:"
   ],
   "cell_type": "markdown",
   "metadata": {}
  },
  {
   "cell_type": "code",
   "execution_count": 2,
   "metadata": {},
   "outputs": [],
   "source": [
    "maxDaysForEmployee = 3\n",
    "schedule = [2,1,1,1,3]\n",
    "workersTime = {\n",
    "    \"Ania\":   [1,1,1,1,1],\n",
    "    \"Stefan\": [1,0,0,0,0],\n",
    "    \"Hektor\": [1,1,1,0,0],\n",
    "    \"Olaf\":   [1,1,1,1,1],\n",
    "    \"Lidia\":  [0,0,0,1,1],\n",
    "    \"Piotr\":  [1,1,1,0,0]\n",
    "}\n",
    "workersHRate = {\n",
    "    \"Ania\":   100,\n",
    "    \"Stefan\": 50,\n",
    "    \"Hektor\": 60,\n",
    "    \"Olaf\":   40,\n",
    "    \"Lidia\":  110,\n",
    "    \"Piotr\":  70\n",
    "}"
   ]
  },
  {
   "source": [
    "## Planowanie grafiku:"
   ],
   "cell_type": "markdown",
   "metadata": {}
  },
  {
   "cell_type": "code",
   "execution_count": 3,
   "metadata": {},
   "outputs": [
    {
     "output_type": "execute_result",
     "data": {
      "text/plain": [
       "1"
      ]
     },
     "metadata": {},
     "execution_count": 3
    }
   ],
   "source": [
    "from  pulp import *\n",
    "\n",
    "shop_model = LpProblem(\"Shop\", LpMinimize)\n",
    "\n",
    "pon = LpVariable.dicts('pon', [x for x in workersTime.keys() if workersTime[x][0] == 1], lowBound = 0, upBound = 1, cat = LpInteger)\n",
    "wt = LpVariable.dicts('wt', [x for x in workersTime.keys() if workersTime[x][1] == 1], lowBound = 0, upBound = 1, cat = LpInteger)\n",
    "sr = LpVariable.dicts('sr', [x for x in workersTime.keys() if workersTime[x][2] == 1], lowBound = 0, upBound = 1, cat = LpInteger)\n",
    "czw = LpVariable.dicts('czw', [x for x in workersTime.keys() if workersTime[x][3] == 1], lowBound = 0, upBound = 1, cat = LpInteger)\n",
    "pt = LpVariable.dicts('pt', [x for x in workersTime.keys() if workersTime[x][4] == 1], lowBound = 0, upBound = 1, cat = LpInteger)\n",
    "\n",
    "shop_model += lpSum([workersHRate[w] * pon[w] for w in pon]) + lpSum([workersHRate[w] * wt[w] for w in wt]) + lpSum([workersHRate[w] * sr[w] for w in sr]) +  lpSum([workersHRate[w] * czw[w] for w in czw]) + lpSum([workersHRate[w] * pt[w] for w in pt]), \"Total salary\"\n",
    "\n",
    "shop_model += lpSum([pon[w] for w in pon]) == schedule[0]\n",
    "shop_model += lpSum([wt[w]  for w in wt])  == schedule[1]\n",
    "shop_model += lpSum([sr[w]  for w in sr])  == schedule[2]\n",
    "shop_model += lpSum([czw[w] for w in czw]) == schedule[3]\n",
    "shop_model += lpSum([pt[w]  for w in pt])  == schedule[4]\n",
    "\n",
    "for w in workersTime.keys():\n",
    "    shop_model += lpSum([pon[e] for e in pon if w == e]) + lpSum([wt[e] for e in wt if w == e]) + lpSum([sr[e] for e in sr if w == e]) + lpSum([czw[e] for e in czw if w == e]) + lpSum([pt[e] for e in pt if w == e]) <= maxDaysForEmployee\n",
    "\n",
    "shop_model.solve()"
   ]
  },
  {
   "source": [
    "## Wyświetlenie obliczonego grafiku:"
   ],
   "cell_type": "markdown",
   "metadata": {}
  },
  {
   "cell_type": "code",
   "execution_count": 4,
   "metadata": {},
   "outputs": [
    {
     "output_type": "stream",
     "name": "stdout",
     "text": [
      "Harmonogram:\n pon\n  > Hektor\n  > Stefan\n wt\n  > Olaf\n sr\n  > Hektor\n czw\n  > Olaf\n pt\n  > Ania\n  > Lidia\n  > Olaf\n\nKoszt tygodniowy: 500.0 zł\n"
     ]
    }
   ],
   "source": [
    "harmonogram = {\"pon\":[],\"wt\":[],\"sr\":[],\"czw\":[],\"pt\":[]}\n",
    "for e in shop_model.variables():\n",
    "    if e.varValue == 1.0:\n",
    "        harmonogram[e.name.split(\"_\")[0]].append(e.name.split(\"_\")[1])\n",
    "\n",
    "print(\"Harmonogram:\")\n",
    "for day in harmonogram.keys():\n",
    "    print(\"\",day)\n",
    "    for empl in harmonogram[day]:\n",
    "        print(\"  >\",empl)\n",
    "\n",
    "print(\"\\nKoszt tygodniowy:\", value(shop_model.objective), \"zł\")"
   ]
  },
  {
   "cell_type": "code",
   "execution_count": null,
   "metadata": {},
   "outputs": [],
   "source": []
  }
 ]
}