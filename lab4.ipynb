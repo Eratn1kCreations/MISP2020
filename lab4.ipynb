{
 "metadata": {
  "language_info": {
   "codemirror_mode": {
    "name": "ipython",
    "version": 3
   },
   "file_extension": ".py",
   "mimetype": "text/x-python",
   "name": "python",
   "nbconvert_exporter": "python",
   "pygments_lexer": "ipython3",
   "version": "3.8.2-final"
  },
  "orig_nbformat": 2,
  "kernelspec": {
   "name": "Python 3.8.2 32-bit",
   "display_name": "Python 3.8.2 32-bit",
   "metadata": {
    "interpreter": {
     "hash": "043792a4145a11e703eb0d0c0a933b88a7ecde794afa4caa1798b22df72c9741"
    }
   }
  }
 },
 "nbformat": 4,
 "nbformat_minor": 2,
 "cells": [
  {
   "cell_type": "code",
   "execution_count": 97,
   "metadata": {},
   "outputs": [
    {
     "output_type": "stream",
     "name": "stdout",
     "text": [
      "R1 = 2.0kΩ (3.0mA)\nR2 = 10.0kΩ (1.0mA)\nR3 = 2.0kΩ (2.0mA)\nR4 = 7.0kΩ (1.0mA)\nR5 = 1.0kΩ (3.0mA)\nMoc mostka 0.052W\n"
     ]
    }
   ],
   "source": [
    "# ZAD 1 - mostek\n",
    "from pulp import *\n",
    "\n",
    "Currents = ['i1', 'i2', 'i3', 'i4', 'i5']\n",
    "Voltages = {'i1':6,'i2':10,'i3':4,'i4':7,'i5':3}\n",
    "Voltages2 = [6,10,4,7,3]\n",
    "Limits = {'i1':4,'i2':2,'i3':2,'i4':2,'i5':4}\n",
    "delta = 1\n",
    "\n",
    "prob = LpProblem(\"Mostek\",LpMinimize)\n",
    "\n",
    "i_var = LpVariable.dicts(\"\",Currents,0)\n",
    "prob += lpSum([i_var[i]*Voltages[i] for i in Currents]), \"Moc\"\n",
    "\n",
    "prob += lpSum([i_var['i1'],-i_var['i4'],-i_var['i3']]) == 0\n",
    "prob += lpSum([i_var['i2'],-i_var['i5'],i_var['i3']]) == 0\n",
    "prob += lpSum([i_var['i5'],i_var['i4'],-i_var['i2'],-i_var['i1']]) == 0\n",
    "\n",
    "for i in Currents:\n",
    "    prob += i_var[i] >= Limits[i] - delta, \"{}_min\".format(i)\n",
    "    prob += i_var[i] <= Limits[i] + delta, \"{}_max\".format(i)\n",
    "\n",
    "prob.solve()\n",
    "\n",
    "i = 0\n",
    "for v in prob.variables():\n",
    "    print(\"R{} = {}kΩ ({}mA)\".format(i+1,Voltages2[i]/v.varValue,v.varValue))\n",
    "    i+=1\n",
    "print(\"Moc mostka {}W\".format(value(prob.objective)/1000))"
   ]
  },
  {
   "cell_type": "code",
   "execution_count": 96,
   "metadata": {},
   "outputs": [
    {
     "output_type": "stream",
     "name": "stdout",
     "text": [
      "i1 = 1.5428571A\ni2 = 2.0571429A\ni3 = 3.6A\ni4 = 1.6A\ni5 = 2.0A\nMaksymalny prąd: 3.6A\n"
     ]
    }
   ],
   "source": [
    "# ZAD 2 - układ\n",
    "from pulp import *\n",
    "\n",
    "Resistors = [8,6,4,10,8]\n",
    "CurrentLimits = [2,3,4,2,2]\n",
    "\n",
    "prob = LpProblem(\"Układ\",LpMaximize)\n",
    "\n",
    "i1=LpVariable(\"i1\",0)\n",
    "i2=LpVariable(\"i2\",0)\n",
    "i3=LpVariable(\"i3\",0)\n",
    "i4=LpVariable(\"i4\",0)\n",
    "i5=LpVariable(\"i5\",0)\n",
    "\n",
    "prob += i3\n",
    "\n",
    "prob += i1 + i2 - i3 == 0, \"wezel 1\"\n",
    "prob += i3 - i4 - i5 == 0, \"wezel 2\"\n",
    "prob += i1*Resistors[0] == i2*Resistors[1], \"napiecie na 2 parze\"\n",
    "prob += i4*Resistors[3] == i5*Resistors[4], \"napiecie na 1 parze\"\n",
    "\n",
    "prob += i1 <= CurrentLimits[0]\n",
    "prob += i2 <= CurrentLimits[1]\n",
    "prob += i3 <= CurrentLimits[2]\n",
    "prob += i4 <= CurrentLimits[3]\n",
    "prob += i5 <= CurrentLimits[4]\n",
    "\n",
    "prob.solve()\n",
    "\n",
    "for v in prob.variables():\n",
    "    print(\"{} = {}A\".format(v.name,v.varValue))\n",
    "print(\"Maksymalny prąd: {}A\".format(value(prob.objective)))"
   ]
  },
  {
   "cell_type": "code",
   "execution_count": null,
   "metadata": {},
   "outputs": [],
   "source": []
  }
 ]
}