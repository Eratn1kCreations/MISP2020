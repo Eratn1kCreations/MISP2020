{
 "metadata": {
  "language_info": {
   "codemirror_mode": {
    "name": "ipython",
    "version": 3
   },
   "file_extension": ".py",
   "mimetype": "text/x-python",
   "name": "python",
   "nbconvert_exporter": "python",
   "pygments_lexer": "ipython3",
   "version": 3
  },
  "orig_nbformat": 2
 },
 "nbformat": 4,
 "nbformat_minor": 2,
 "cells": [
  {
   "cell_type": "code",
   "execution_count": null,
   "metadata": {},
   "outputs": [],
   "source": [
    "challenge 1\n",
    "Stworz typ NumerTelefonu\n",
    "\n",
    "-- przy tworzeniu sprawdza czy właściwy numer (Polski) jeśli nie pisze, że error (ew. Exception)\n",
    "\n",
    "-- gdy printuję to mi pisze polskimi słowami i.e. \"jeden, pięć, siedem, zero\"\n",
    "\n",
    "-- gdy wywołuję właściwość wojewodzwtwo, podaje mi wojewodztwo ew. ze to komorkowy\n",
    "\n",
    "# ma na takie rzeczy być w stanie odpowiedzieć\n",
    "\n",
    "numer_lodz = NumerTelefonu(\"426877868\")\n",
    ">>> \"prawidlowy numer\"\n",
    "\n",
    "numer_lodz.wojewodztwo \n",
    ">>> \"Lodz\"\n",
    "\n",
    "print(numer_lodz)\n",
    ">>> \"cztery dwa sześć osiem siedem siedem osiem sześć osiem\""
   ]
  },
  {
   "cell_type": "code",
   "execution_count": null,
   "metadata": {},
   "outputs": [],
   "source": [
    "class NumerTelefonu():\n",
    "\n",
    "    numer_telefonu = None\n",
    "\n",
    "    prefixy_miastowe = {12:\"Kraków\", 13:\"Krosno\", 14:\"Tarnów\", 15:\"Tarnobrzeg\", 16:\"Przemyśl\", 17:\"Rzeszów\", 18:\"Nowy Sącz\", 22:\"Warszawa\", 23:\"Ciechanów\", 24:\"Płock\", 25:\"Siedlce\", 29:\"Ostrołęka\", 32:\"Katowice\", 33:\"Bielsko-Biała\", 34:\"Częstochowa\", 41:\"Kielce\", 42:\"Łódź\", 43:\"Sieradz\", 44:\"Piotrków Tr.\", 46:\"Skierniewice\", 48:\"Radom\", 52:\"Bydgoszcz\", 54:\"Włocławek\", 55:\"Elbląg\", 56:\"Toruń\", 58:\"Gdańsk\", 59:\"Słupsk\", 61:\"Poznań\", 62:\"Kalisz\", 63:\"Konin\", 65:\"Leszno\", 67:\"Piła\", 68:\"Zielona G.\", 71:\"Wrocław\", 74:\"Wałbrzych\", 75:\"Jelenia G.\", 76:\"Legnica\", 77:\"Opole\", 81:\"Lublin\", 82:\"Chełm\", 83:\"Biała Podl.\", 84:\"Zamość\", 85:\"Białystok\", 86:\"Łomża\", 87:\"Suwałki\", 89:\"Olsztyn\", 91:\"Szczecin\", 94:\"Koszalin\", 95:\"Gorzów Wlkp.\"}\n",
    "\n",
    "    # tu nie potrzebnie ale chciałem spróbować w ten sposób :)\n",
    "    liczby_czytane = dict(para for para in enumerate([\"zero\",\"jeden\",\"dwa\",\"trzy\",\"cztery\",\"pięć\",\"sześć\",\"siedem\",\"osiem\",\"dziewięć\"]))\n",
    "\n",
    "    def __init__(self, numer): #sprawdzenie czy numer posiada 9 cyft i jest liczbą ~ nie wspiera kierunkowego +48, dodatkowo wsparcie dla grupowania cyfr w numerze poprzez spacje\n",
    "        nr = numer.replace(\" \", \"\")\n",
    "        if len(nr) == 9 and nr.isnumeric():\n",
    "            self.numer_telefonu = nr\n",
    "            print(\"Prawidłowy numer\")\n",
    "        else: print(\"Niewłaściwy numer\")\n",
    "\n",
    "    @property #przeszukanie dict z numerami kierunkowymi, w przypadku znalezienia odpowiednika wyprintowanie miasta\n",
    "    def wojewodztwo(self):\n",
    "        if(self.numer_telefonu):\n",
    "            if int(self.numer_telefonu[0:2]) in self.prefixy_miastowe:\n",
    "                print(self.prefixy_miastowe[int(self.numer_telefonu[0:2])])\n",
    "        else:\n",
    "            print(\"Brak numeru\")\n",
    "\n",
    "    def __repr__(self): # domyślny print dla klasy\n",
    "        if(self.numer_telefonu):\n",
    "            return \" \".join(self.liczby_czytane[int(cyfra)] for cyfra in self.numer_telefonu)\n",
    "        else:\n",
    "            return \"Brak numeru\"\n",
    "\n",
    "numer_lodz = NumerTelefonu(\"426 877 868\")\n",
    "numer_lodz.wojewodztwo\n",
    "print(numer_lodz)"
   ]
  }
 ]
}