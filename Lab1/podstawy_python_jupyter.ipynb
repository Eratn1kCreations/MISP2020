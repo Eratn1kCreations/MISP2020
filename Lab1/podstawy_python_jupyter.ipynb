{
 "metadata": {
  "language_info": {
   "codemirror_mode": {
    "name": "ipython",
    "version": 3
   },
   "file_extension": ".py",
   "mimetype": "text/x-python",
   "name": "python",
   "nbconvert_exporter": "python",
   "pygments_lexer": "ipython3",
   "version": "3.8.2-final"
  },
  "orig_nbformat": 2,
  "kernelspec": {
   "name": "python3",
   "display_name": "Python 3.8.2 32-bit",
   "metadata": {
    "interpreter": {
     "hash": "043792a4145a11e703eb0d0c0a933b88a7ecde794afa4caa1798b22df72c9741"
    }
   }
  }
 },
 "nbformat": 4,
 "nbformat_minor": 2,
 "cells": [
  {
   "source": [
    "## Zadanie 1\n",
    "- wyprintuj zajęcia od środy do piątku\n",
    "- wyprintuj oprócz środy"
   ],
   "cell_type": "markdown",
   "metadata": {}
  },
  {
   "cell_type": "code",
   "execution_count": 6,
   "metadata": {},
   "outputs": [
    {
     "output_type": "stream",
     "name": "stdout",
     "text": [
      "relax\nmispy\npiateczek\n\n ******************** \n\nwf\ninformatyka\nmispy\npiateczek\n"
     ]
    }
   ],
   "source": [
    "# Dane\n",
    "zajecia = [\"wf\",\"informatyka\",\"relax\",\"mispy\",\"piateczek\"]\n",
    "dnityg= [\"Pon\",\"Wto\",\"Sro\",\"Czwar\",\"Pio\"]\n",
    "\n",
    "# cz1\n",
    "for lekcje in zajecia[2:]:\n",
    "    print(lekcje)\n",
    "    \n",
    "print(\"\\n\",\"*\"*20,\"\\n\")\n",
    "\n",
    "# cz2\n",
    "for dzien, lekcje in zip(dnityg,zajecia):\n",
    "    if dzien != \"Sro\":\n",
    "        print(lekcje)"
   ]
  },
  {
   "source": [
    "## Zadanie 2\n",
    "- zdefiniowanie funkcji która zwraca ile jest zajść danego dnia\n",
    "- posortowanie planu względem ilości zajęć"
   ],
   "cell_type": "markdown",
   "metadata": {}
  },
  {
   "cell_type": "code",
   "execution_count": 11,
   "metadata": {},
   "outputs": [
    {
     "output_type": "stream",
     "name": "stdout",
     "text": [
      "Pio\nWto\nSro\nCzwar\nPon\n"
     ]
    }
   ],
   "source": [
    "# Dane\n",
    "zajecia = [[\"wf\"],\n",
    "           [\"informatyka\", \"nauka czytania\"],\n",
    "           [\"relax\", \"jedzenie\"],\n",
    "           [\"mispy\",\"mispy w domu\"],\n",
    "           [\"piateczek\", \"praca domowa z mispow\", \"Ilovemispy\", \"mispy w czasie snu\"]\n",
    "          ]\n",
    "\n",
    "dnityg= [\"Pon\",\"Wto\",\"Sro\",\"Czwar\",\"Pio\"]\n",
    "\n",
    "plan = list(zip(dnityg,zajecia))\n",
    "\n",
    "# cz1\n",
    "def lista_zajec_z_dnia(dzien):\n",
    "    return len(dzien[1])\n",
    "\n",
    "# cz2\n",
    "for dzien in sorted(plan, reverse=True, key=lista_zajec_z_dnia):\n",
    "    print(dzien[0])"
   ]
  },
  {
   "source": [
    "## Zadanie 3\n",
    "- napianie programu który ma na celu znalezienie dnia z największą ilością mispów"
   ],
   "cell_type": "markdown",
   "metadata": {}
  },
  {
   "cell_type": "code",
   "execution_count": 10,
   "metadata": {},
   "outputs": [
    {
     "output_type": "stream",
     "name": "stdout",
     "text": [
      "Dzień z największą ilością mispów: Pio\n"
     ]
    }
   ],
   "source": [
    "def ilosc_mispow_w_dniu(dzien):\n",
    "    iloscMisp = 0\n",
    "    for lekcja in dzien[1]:\n",
    "        if \"misp\" in lekcja.lower():\n",
    "            iloscMisp += 1\n",
    "    return iloscMisp\n",
    "\n",
    "print(\"Dzień z największą ilością mispów:\",max(plan, key=ilosc_mispow_w_dniu)[0])"
   ]
  },
  {
   "cell_type": "code",
   "execution_count": null,
   "metadata": {},
   "outputs": [],
   "source": []
  }
 ]
}