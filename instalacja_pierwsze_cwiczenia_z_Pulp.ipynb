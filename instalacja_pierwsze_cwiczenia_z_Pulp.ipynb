{
  "nbformat": 4,
  "nbformat_minor": 0,
  "metadata": {
    "colab": {
      "name": "instalacja pierwsze ćwiczenia z Pulp",
      "provenance": [],
      "collapsed_sections": []
    },
    "kernelspec": {
      "name": "Python 3.8.2 32-bit",
      "display_name": "Python 3.8.2 32-bit",
      "metadata": {
        "interpreter": {
          "hash": "043792a4145a11e703eb0d0c0a933b88a7ecde794afa4caa1798b22df72c9741"
        }
      }
    }
  },
  "cells": [
    {
      "cell_type": "code",
      "execution_count": null,
      "metadata": {},
      "outputs": [],
      "source": [
        "Zadanie 2 + 4"
      ]
    },
    {
      "cell_type": "code",
      "execution_count": 11,
      "metadata": {},
      "outputs": [
        {
          "output_type": "stream",
          "name": "stdout",
          "text": [
            "Końcowy produkt będzie kosztować 0.51$, będzie miał w składzie BARANINA: 0.0%, KURCZAK: 0.0%, PSZENICA: 45.45%, RYŻ: 0.0%, SARDYNKI: 0.0%, WOŁOWINA: 54.55%, ŻEL: 0.0%\n"
          ]
        }
      ],
      "source": [
        "from pulp import *\n",
        "prob = LpProblem(\"The Whiskas Problem\",LpMinimize)\n",
        "Ingredients = ['CHICKEN', 'BEEF', 'MUTTON', 'RICE', 'WHEAT', 'GEL', 'SARDINES']\n",
        "costs = {'CHICKEN': 0.013, \n",
        "         'BEEF': 0.008, \n",
        "         'MUTTON': 0.010, \n",
        "         'RICE': 0.002, \n",
        "         'WHEAT': 0.005, \n",
        "         'GEL': 0.001, \n",
        "         'SARDINES': 0.0085}\n",
        "proteinPercent = {'CHICKEN': 0.100, \n",
        "                  'BEEF': 0.200, \n",
        "                  'MUTTON': 0.150, \n",
        "                  'RICE': 0.000, \n",
        "                  'WHEAT': 0.040, \n",
        "                  'GEL': 0.000, \n",
        "                  'SARDINES': 0.25}\n",
        "fatPercent = {'CHICKEN': 0.080, \n",
        "              'BEEF': 0.100, \n",
        "              'MUTTON': 0.110, \n",
        "              'RICE': 0.010, \n",
        "              'WHEAT': 0.010, \n",
        "              'GEL': 0.000, \n",
        "              'SARDINES': 0.11}\n",
        "fibrePercent = {'CHICKEN': 0.001, \n",
        "                'BEEF': 0.005, \n",
        "                'MUTTON': 0.003, \n",
        "                'RICE': 0.100, \n",
        "                'WHEAT': 0.150, \n",
        "                'GEL': 0.000, \n",
        "                'SARDINES': 0.0}\n",
        "saltPercent = {'CHICKEN': 0.002, \n",
        "               'BEEF': 0.005, \n",
        "               'MUTTON': 0.007, \n",
        "               'RICE': 0.002, \n",
        "               'WHEAT': 0.008, \n",
        "               'GEL': 0.000, \n",
        "               'SARDINES': 0.00505}\n",
        "ingredient_vars = LpVariable.dicts(\"Ingr\",Ingredients,0)\n",
        "prob += lpSum([costs[i]*ingredient_vars[i] for i in Ingredients]), \"Total Cost of Ingredients per can\"\n",
        "prob += lpSum([ingredient_vars[i] for i in Ingredients]) == 100, \"PercentagesSum\"\n",
        "prob += lpSum([proteinPercent[i] * ingredient_vars[i] for i in Ingredients]) >= 8.0, \"ProteinRequirement\"\n",
        "prob += lpSum([fatPercent[i] * ingredient_vars[i] for i in Ingredients]) >= 6.0, \"FatRequirement\"\n",
        "prob += lpSum([fibrePercent[i] * ingredient_vars[i] for i in Ingredients]) <= 2.0, \"FibreRequirement\"\n",
        "prob += lpSum([saltPercent[i] * ingredient_vars[i] for i in Ingredients]) <= 0.4, \"SaltRequirement\"\n",
        "prob.solve()\n",
        "ingr = \", \".join([\"{}: {}%\".format(name,round(i.varValue,2)) for i,name in zip(prob.variables(),sorted(Ingredients))])\n",
        "print(\"Końcowy produkt będzie kosztować {}$, będzie miał w składzie {}\".format(round(value(prob.objective),2),ingr))"
      ]
    },
    {
      "cell_type": "code",
      "execution_count": null,
      "metadata": {},
      "outputs": [],
      "source": [
        "Zadanie 3 + 4"
      ]
    },
    {
      "cell_type": "code",
      "execution_count": 12,
      "metadata": {},
      "outputs": [
        {
          "output_type": "stream",
          "name": "stdout",
          "text": [
            "Końcowy produkt będzie kosztować 0.51$, będzie miał w składzie BARANINA: 0.0%, KURCZAK: 0.0%, PSZENICA: 45.45%, RYŻ: 0.0%, SARDYNKI: 0.0%, WOŁOWINA: 54.55%, ŻEL: 0.0%\n"
          ]
        }
      ],
      "source": [
        "from pulp import *\n",
        "prob = LpProblem(\"The Whiskas Problem\",LpMinimize)\n",
        "Ingredients = ['CHICKEN', 'BEEF', 'MUTTON', 'RICE', 'WHEAT', 'GEL', 'SARDINES']\n",
        "costs = {'CHICKEN': 0.013, \n",
        "         'BEEF': 0.008, \n",
        "         'MUTTON': 0.010, \n",
        "         'RICE': 0.002, \n",
        "         'WHEAT': 0.005, \n",
        "         'GEL': 0.001, \n",
        "         'SARDINES': 0.0085}\n",
        "proteinPercent = {'CHICKEN': 0.100, \n",
        "                  'BEEF': 0.200, \n",
        "                  'MUTTON': 0.150, \n",
        "                  'RICE': 0.000, \n",
        "                  'WHEAT': 0.040, \n",
        "                  'GEL': 0.000, \n",
        "                  'SARDINES': 0.25}\n",
        "fatPercent = {'CHICKEN': 0.080, \n",
        "              'BEEF': 0.100, \n",
        "              'MUTTON': 0.110, \n",
        "              'RICE': 0.010, \n",
        "              'WHEAT': 0.010, \n",
        "              'GEL': 0.000, \n",
        "              'SARDINES': 0.11}\n",
        "fibrePercent = {'CHICKEN': 0.001, \n",
        "                'BEEF': 0.005, \n",
        "                'MUTTON': 0.003, \n",
        "                'RICE': 0.100, \n",
        "                'WHEAT': 0.150, \n",
        "                'GEL': 0.000, \n",
        "                'SARDINES': 0.0}\n",
        "saltPercent = {'CHICKEN': 0.002, \n",
        "               'BEEF': 0.005, \n",
        "               'MUTTON': 0.007, \n",
        "               'RICE': 0.002, \n",
        "               'WHEAT': 0.008, \n",
        "               'GEL': 0.000, \n",
        "               'SARDINES': 0.00505}\n",
        "vitaminBinug = {'CHICKEN': 0.003, \n",
        "                'BEEF': 0.026, \n",
        "                'MUTTON': 0.026, \n",
        "                'RICE': 0.0, \n",
        "                'WHEAT': 0.0, \n",
        "                'GEL': 0.0, \n",
        "                'SARDINES': 0.089}\n",
        "ingredient_vars = LpVariable.dicts(\"Ingr\",Ingredients,0,100)\n",
        "prob += lpSum([costs[i]*ingredient_vars[i] for i in Ingredients]), \"Total Cost of Ingredients per can\"\n",
        "prob += lpSum([ingredient_vars[i] for i in Ingredients]) == 100, \"PercentagesSum\"\n",
        "prob += lpSum([proteinPercent[i] * ingredient_vars[i] for i in Ingredients]) >= 8.0, \"ProteinRequirement\"\n",
        "prob += lpSum([fatPercent[i] * ingredient_vars[i] for i in Ingredients]) >= 6.0, \"FatRequirement\"\n",
        "prob += lpSum([fibrePercent[i] * ingredient_vars[i] for i in Ingredients]) <= 2.0, \"FibreRequirement\"\n",
        "prob += lpSum([saltPercent[i] * ingredient_vars[i] for i in Ingredients]) <= 0.4, \"SaltRequirement\"\n",
        "prob += lpSum([vitaminBinug[i] * ingredient_vars[i] for i in Ingredients]) >= 0.8 , \"VitaminBRequirement\"\n",
        "# Można otrzymać ciekawy wynik przy zmianie granicy witaminy B z dolnej na górną, wtedy w skład karmy wchodzi mieszanka 4 składników\n",
        "prob.solve()\n",
        "ingr = \", \".join([\"{}: {}%\".format(name,round(i.varValue,2)) for i,name in zip(prob.variables(),sorted(Ingredients))])\n",
        "print(\"Końcowy produkt będzie kosztować {}$, będzie miał w składzie {}\".format(round(value(prob.objective),2),ingr))"
      ]
    },
    {
      "cell_type": "code",
      "execution_count": null,
      "metadata": {},
      "outputs": [],
      "source": []
    }
  ]
}