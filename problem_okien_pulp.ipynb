{
 "metadata": {
  "language_info": {
   "codemirror_mode": {
    "name": "ipython",
    "version": 3
   },
   "file_extension": ".py",
   "mimetype": "text/x-python",
   "name": "python",
   "nbconvert_exporter": "python",
   "pygments_lexer": "ipython3",
   "version": "3.8.2-final"
  },
  "orig_nbformat": 2,
  "kernelspec": {
   "name": "Python 3.8.2 32-bit",
   "display_name": "Python 3.8.2 32-bit",
   "metadata": {
    "interpreter": {
     "hash": "043792a4145a11e703eb0d0c0a933b88a7ecde794afa4caa1798b22df72c9741"
    }
   }
  }
 },
 "nbformat": 4,
 "nbformat_minor": 2,
 "cells": [
  {
   "cell_type": "code",
   "execution_count": 66,
   "metadata": {},
   "outputs": [
    {
     "output_type": "stream",
     "name": "stdout",
     "text": [
      "Okna aluminowe - wyprodukowano 2 partie produktu\nOkna drewniane - wyprodukowano 6 partii produktu\nCałkowity zysk wynosi 36000 zł\n"
     ]
    }
   ],
   "source": [
    "from pulp import *\n",
    "prob = LpProblem(\"produkcjaOkien\",LpMaximize) #LpMaximize\n",
    "\n",
    "x1=LpVariable(\"aluminowe\", lowBound=0, cat='Integer')\n",
    "x2=LpVariable(\"drewniane\", lowBound=0, cat='Integer')\n",
    "\n",
    "prob += 3*x1 + 5*x2, \"Zysk\"\n",
    "\n",
    "prob += x1 <= 4, \"Fabryka 1\"\n",
    "prob += 2*x2 <= 12, \"Fabryka 2\"\n",
    "prob += 3*x1 + 2*x2 <= 18, \"Fabryka 3\"\n",
    "\n",
    "prob.writeLP(\"OknaModel.lp\")\n",
    "prob.solve()\n",
    "\n",
    "for v in prob.variables():\n",
    "    print(\"Okna {} - wyprodukowano {} parti{} produktu\".format(v.name, round(v.varValue),\"e\" if (round(v.varValue)<=4) else \"i\"))\n",
    "print(\"Całkowity zysk wynosi {} zł\".format(round(value(prob.objective)*1000)))"
   ]
  },
  {
   "cell_type": "code",
   "execution_count": 86,
   "metadata": {},
   "outputs": [
    {
     "output_type": "display_data",
     "data": {
      "text/plain": "interactive(children=(FloatSlider(value=3.0, description='Cena aluminiowe', max=10.0, min=0.1, style=SliderSty…",
      "application/vnd.jupyter.widget-view+json": {
       "version_major": 2,
       "version_minor": 0,
       "model_id": "cb02a9d57b784b9a8ad3f8bf8f768ad2"
      }
     },
     "metadata": {}
    },
    {
     "output_type": "execute_result",
     "data": {
      "text/plain": [
       "<function __main__.obliczProdukcje(cAluminiowe=3, cDrewniane=5, cf1=4, cf2=12, cf3=18, sAluminiowe=1, sDrewniane=1)>"
      ]
     },
     "metadata": {},
     "execution_count": 86
    }
   ],
   "source": [
    "from pulp import *\n",
    "import pandas as pd\n",
    "from ipywidgets import interact, interactive, fixed, interact_manual, Layout, FloatSlider, IntSlider\n",
    "import ipywidgets as widgets\n",
    "\n",
    "style = {'description_width': 'initial'}\n",
    "\n",
    "cena_aluminiowe = FloatSlider(min = 0.1, max = 10, value = 3, description = \"Cena aluminiowe\", style = style )\n",
    "cena_drewniane  = FloatSlider(min = 0.1, max = 10, value = 5, description = \"Cena drewniane\",  style = style )\n",
    "czas_f1 = IntSlider(min = 0, max = 20, value = 4,  description = \"Czas pracy w fabryce 1\",  style = style )\n",
    "czas_f2 = IntSlider(min = 0, max = 20, value = 12, description = \"Czas pracy w fabryce 2\",  style = style )\n",
    "czas_f3 = IntSlider(min = 0, max = 20, value = 18, description = \"Czas pracy w fabryce 3\",  style = style )\n",
    "\n",
    "skaluj_aluminiowe  = FloatSlider(min = 0.1, max = 3, value = 1, description = \"Skalowanie prod. alum.\",  style = style )\n",
    "skaluj_drewniane  = FloatSlider(min = 0.1, max = 3, value = 1, description = \"Skalowanie prod. drew.\",  style = style )\n",
    "\n",
    "def obliczProdukcje(cAluminiowe = 3, cDrewniane = 5, cf1 = 4, cf2 = 12, cf3 = 18, sAluminiowe = 1, sDrewniane = 1):\n",
    "    prob = LpProblem(\"produkcjaOkien\",LpMaximize) #LpMaximize\n",
    "\n",
    "    x1=LpVariable(\"aluminowe\", lowBound = 0, cat = 'Integer')\n",
    "    x2=LpVariable(\"drewniane\", lowBound = 0, cat = 'Integer')\n",
    "\n",
    "    prob += cAluminiowe*x1 + cDrewniane*x2, \"Zysk\"\n",
    "\n",
    "    prob += sAluminiowe*x1 <= cf1, \"Fabryka 1\"\n",
    "    prob += sDrewniane*2*x2 <= cf2, \"Fabryka 2\"\n",
    "    prob += sAluminiowe*3*x1 + sDrewniane*2*x2 <= cf3, \"Fabryka 3\"\n",
    "\n",
    "    prob.solve()\n",
    "\n",
    "    print(\"*\"*10+\"Produkcja i zysk\"+\"*\"*10)\n",
    "    for v in prob.variables():\n",
    "        print(\"Okna {} - wyprodukowano {} parti{} produktu\".format(v.name, round(v.varValue),\"e\" if (round(v.varValue)<=4) else \"i\"))\n",
    "    print(\"Całkowity zysk wynosi {} zł\".format(round(value(prob.objective)*1000)))\n",
    "\n",
    "    shadows = [{'name':name, 'shadow price': c.pi, \"slack\": c.slack} for name, c in prob.constraints.items()]\n",
    "    print(\"*\"*10+\"Shadow Prices\"+\"*\"*10)\n",
    "    print(pd.DataFrame(shadows))\n",
    "\n",
    "interact(\n",
    "    obliczProdukcje,\n",
    "    cAluminiowe = cena_aluminiowe,\n",
    "    cDrewniane  = cena_drewniane,\n",
    "    cf1 = czas_f1,\n",
    "    cf2 = czas_f2,\n",
    "    cf3 = czas_f3,\n",
    "    sAluminiowe = skaluj_aluminiowe,\n",
    "    sDrewniane = skaluj_drewniane\n",
    "    )"
   ]
  },
  {
   "cell_type": "code",
   "execution_count": null,
   "metadata": {},
   "outputs": [],
   "source": []
  }
 ]
}