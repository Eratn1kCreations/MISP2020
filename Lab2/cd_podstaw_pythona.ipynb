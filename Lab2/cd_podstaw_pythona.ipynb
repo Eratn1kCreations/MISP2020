{
 "metadata": {
  "language_info": {
   "codemirror_mode": {
    "name": "ipython",
    "version": 3
   },
   "file_extension": ".py",
   "mimetype": "text/x-python",
   "name": "python",
   "nbconvert_exporter": "python",
   "pygments_lexer": "ipython3",
   "version": "3.8.2-final"
  },
  "orig_nbformat": 2,
  "kernelspec": {
   "name": "python3",
   "display_name": "Python 3.8.2 32-bit",
   "metadata": {
    "interpreter": {
     "hash": "043792a4145a11e703eb0d0c0a933b88a7ecde794afa4caa1798b22df72c9741"
    }
   }
  }
 },
 "nbformat": 4,
 "nbformat_minor": 2,
 "cells": [
  {
   "source": [
    "## Zadanie 1\n",
    "Należy stworzyć klasę \"NumerTelefonu\" która ma następujące właściwości:\n",
    "- przy tworzeniu sprawdza czy podany numer jest właściwy (Polski), jeśli nie pisze zwraca błąd\n",
    "- przy printowaniu to zwraca numer słownie, np.: \"jeden, pięć, siedem, zero\"\n",
    "- gdy wywołuję właściwość województwo, w przypadku numeru stacjonarnego zwraca województwo\n",
    "\n",
    "### Operowanie klasą oraz tworzenie nowego obiektu:\n",
    "> numer_lodz = NumerTelefonu(\"426877868\")\n",
    ">> \"prawidlowy numer\"\n",
    "\n",
    "#\n",
    "> numer_lodz.wojewodztwo \n",
    ">> \"Lodz\"\n",
    "\n",
    "#\n",
    "> print(numer_lodz)\n",
    ">> \"cztery dwa sześć osiem siedem siedem osiem sześć osiem\""
   ],
   "cell_type": "markdown",
   "metadata": {}
  },
  {
   "cell_type": "code",
   "execution_count": 3,
   "metadata": {},
   "outputs": [
    {
     "output_type": "stream",
     "name": "stdout",
     "text": [
      "Prawidłowy numer\nNr. komórkowy\ncztery dwa sześć osiem siedem siedem osiem sześć osiem\n"
     ]
    }
   ],
   "source": [
    "import collections\n",
    "\n",
    "class NumerTelefonu():\n",
    "\n",
    "    numer_telefonu = None\n",
    "\n",
    "    prefixy_miastowe = {\n",
    "        12:\"Kraków\", 13:\"Krosno\", 14:\"Tarnów\", 15:\"Tarnobrzeg\", 16:\"Przemyśl\",\n",
    "        17:\"Rzeszów\", 18:\"Nowy Sącz\", 22:\"Warszawa\", 23:\"Ciechanów\", 24:\"Płock\",\n",
    "        25:\"Siedlce\", 29:\"Ostrołęka\", 32:\"Katowice\", 33:\"Bielsko-Biała\", 34:\"Częstochowa\",\n",
    "        41:\"Kielce\", 42:\"Łódź\", 43:\"Sieradz\", 44:\"Piotrków Tr.\", 46:\"Skierniewice\", 48:\"Radom\",\n",
    "        52:\"Bydgoszcz\", 54:\"Włocławek\", 55:\"Elbląg\", 56:\"Toruń\", 58:\"Gdańsk\", 59:\"Słupsk\",\n",
    "        61:\"Poznań\", 62:\"Kalisz\", 63:\"Konin\", 65:\"Leszno\", 67:\"Piła\", 68:\"Zielona G.\", 71:\"Wrocław\",\n",
    "        74:\"Wałbrzych\", 75:\"Jelenia G.\", 76:\"Legnica\", 77:\"Opole\", 81:\"Lublin\", 82:\"Chełm\",\n",
    "        83:\"Biała Podl.\", 84:\"Zamość\", 85:\"Białystok\", 86:\"Łomża\", 87:\"Suwałki\", 89:\"Olsztyn\",\n",
    "        91:\"Szczecin\", 94:\"Koszalin\", 95:\"Gorzów Wlkp.\"}\n",
    "    prefixy_miastowe = collections.defaultdict(lambda: \"Nr. komórkowy\")\n",
    "\n",
    "    liczby_czytane = dict(para for para in enumerate([\"zero\",\"jeden\",\"dwa\",\"trzy\",\"cztery\",\"pięć\",\"sześć\",\"siedem\",\"osiem\",\"dziewięć\"]))\n",
    "\n",
    "    #sprawdzenie czy numer posiada 9 cyfr i jest liczbą ~ nie wspiera kierunkowego +48, dodatkowo wsparcie dla grupowania cyfr w numerze poprzez spacje\n",
    "    def __init__(self, numer): \n",
    "        \n",
    "        nr = numer.replace(\" \", \"\")\n",
    "        if len(nr) == 9 and nr.isnumeric():\n",
    "            self.numer_telefonu = nr\n",
    "            print(\"Prawidłowy numer\")\n",
    "        else:\n",
    "            print(\"Niewłaściwy numer\")\n",
    "\n",
    "    #przeszukanie dict z numerami kierunkowymi, w przypadku znalezienia odpowiednika wyprintowanie miasta\n",
    "    @property \n",
    "    def wojewodztwo(self):\n",
    "        if(self.numer_telefonu):\n",
    "            print(self.prefixy_miastowe[int(self.numer_telefonu[0:2])])\n",
    "        else:\n",
    "            print(\"Niewłaściwy numer\")\n",
    "\n",
    "    #domyślny print dla klasy\n",
    "    def __repr__(self): \n",
    "        if(self.numer_telefonu):\n",
    "            return \" \".join(self.liczby_czytane[int(cyfra)] for cyfra in self.numer_telefonu)\n",
    "        else:\n",
    "            return \"Niewłaściwy numer\"\n",
    "\n",
    "numer_lodz = NumerTelefonu(\"426877868\")\n",
    "numer_lodz.wojewodztwo\n",
    "print(numer_lodz)"
   ]
  },
  {
   "cell_type": "code",
   "execution_count": null,
   "metadata": {},
   "outputs": [],
   "source": []
  }
 ]
}