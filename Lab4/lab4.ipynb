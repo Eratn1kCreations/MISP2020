{
 "metadata": {
  "language_info": {
   "codemirror_mode": {
    "name": "ipython",
    "version": 3
   },
   "file_extension": ".py",
   "mimetype": "text/x-python",
   "name": "python",
   "nbconvert_exporter": "python",
   "pygments_lexer": "ipython3",
   "version": "3.8.2-final"
  },
  "orig_nbformat": 2,
  "kernelspec": {
   "name": "python3",
   "display_name": "Python 3.8.2 32-bit",
   "metadata": {
    "interpreter": {
     "hash": "043792a4145a11e703eb0d0c0a933b88a7ecde794afa4caa1798b22df72c9741"
    }
   }
  }
 },
 "nbformat": 4,
 "nbformat_minor": 2,
 "cells": [
  {
   "source": [
    "## Zadanie 1:\n",
    "Dla układu mostka przedstawionego na obrazku \"mostek.png\" należy:\n",
    "- dobrać wartości rezystorów\n",
    "- obliczyć moc wydzielaną w układzie\n",
    "\n",
    "W celu wyznaczenia tych wartości należy uwzględnić znane wartości napięć oraz maksymalne wartości prądów na elementach."
   ],
   "cell_type": "markdown",
   "metadata": {}
  },
  {
   "cell_type": "code",
   "execution_count": 10,
   "metadata": {},
   "outputs": [
    {
     "output_type": "stream",
     "name": "stdout",
     "text": [
      "R1 = 2.0kΩ (3.0mA)\nR2 = 10.0kΩ (1.0mA)\nR3 = 2.0kΩ (2.0mA)\nR4 = 7.0kΩ (1.0mA)\nR5 = 1.0kΩ (3.0mA)\nMoc mostka 0.052W\n"
     ]
    }
   ],
   "source": [
    "from pulp import *\n",
    "\n",
    "Currents = ['i1', 'i2', 'i3', 'i4', 'i5']\n",
    "Voltages = {'i1':6,'i2':10,'i3':4,'i4':7,'i5':3}\n",
    "Limits = {'i1':4,'i2':2,'i3':2,'i4':2,'i5':4}\n",
    "\n",
    "prob = LpProblem(\"Mostek\",LpMinimize)\n",
    "\n",
    "i_var = LpVariable.dicts(\"\",Currents,0)\n",
    "prob += lpSum([i_var[i]*Voltages[i] for i in Currents]), \"Moc\"\n",
    "\n",
    "prob += lpSum([i_var['i1'],-i_var['i4'],-i_var['i3']]) == 0\n",
    "prob += lpSum([i_var['i2'],-i_var['i5'],i_var['i3']]) == 0\n",
    "prob += lpSum([i_var['i5'],i_var['i4'],-i_var['i2'],-i_var['i1']]) == 0\n",
    "\n",
    "for i in Currents:\n",
    "    prob += i_var[i] >= Limits[i] - delta, \"{}_min\".format(i)\n",
    "    prob += i_var[i] <= Limits[i] + delta, \"{}_max\".format(i)\n",
    "\n",
    "prob.solve()\n",
    "\n",
    "i = 0\n",
    "for v in prob.variables():\n",
    "    print(\"R{} = {}kΩ ({}mA)\".format(i+1,Voltages['i'+str(i+1)]/v.varValue,v.varValue))\n",
    "    i+=1\n",
    "print(\"Moc mostka {}W\".format(value(prob.objective)/1000))"
   ]
  },
  {
   "source": [
    "## Zadanie 2:\n",
    "Dla układu dwójnika przedstawionego na obrazku \"dwojnik.png\" należy:\n",
    "- dobrać wartości rezystorów\n",
    "- określić maksymalny prąd dla układu\n",
    "\n",
    "W celu wyznaczenia tych wartości należy uwzględnić maksymalne wartości prądów na elementach."
   ],
   "cell_type": "markdown",
   "metadata": {}
  },
  {
   "cell_type": "code",
   "execution_count": 9,
   "metadata": {},
   "outputs": [
    {
     "output_type": "stream",
     "name": "stdout",
     "text": [
      "_i1 = 1.5428571A\n_i2 = 2.0571429A\n_i3 = 3.6A\n_i4 = 1.6A\n_i5 = 2.0A\nMaksymalny prąd: 3.6A\n"
     ]
    }
   ],
   "source": [
    "from pulp import *\n",
    "\n",
    "Currents = ['i1', 'i2', 'i3', 'i4', 'i5']\n",
    "CurrentLimits = [2,3,4,2,2]\n",
    "Resistors = [8,6,4,10,8]\n",
    "\n",
    "prob = LpProblem(\"Układ\",LpMaximize)\n",
    "\n",
    "i_var = LpVariable.dicts(\"\",Currents,0)\n",
    "\n",
    "prob += i_var['i3']\n",
    "\n",
    "prob += i_var['i1'] + i_var['i2'] - i_var['i3'] == 0, \"wezel 1\"\n",
    "prob += i_var['i3'] - i_var['i4'] - i_var['i5'] == 0, \"wezel 2\"\n",
    "prob += i_var['i1']*Resistors[0] == i_var['i2']*Resistors[1], \"napiecie na 2 parze\"\n",
    "prob += i_var['i4']*Resistors[3] == i_var['i5']*Resistors[4], \"napiecie na 1 parze\"\n",
    "\n",
    "for i, val in enumerate(Currents):\n",
    "    prob += i_var[val] <= CurrentLimits[i]\n",
    "\n",
    "prob.solve()\n",
    "\n",
    "for v in prob.variables():\n",
    "    print(\"{} = {}A\".format(v.name,v.varValue))\n",
    "print(\"Maksymalny prąd: {}A\".format(value(prob.objective)))"
   ]
  },
  {
   "cell_type": "code",
   "execution_count": null,
   "metadata": {},
   "outputs": [],
   "source": []
  }
 ]
}