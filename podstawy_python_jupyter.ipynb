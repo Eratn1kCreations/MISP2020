{
 "metadata": {
  "language_info": {
   "codemirror_mode": {
    "name": "ipython",
    "version": 3
   },
   "file_extension": ".py",
   "mimetype": "text/x-python",
   "name": "python",
   "nbconvert_exporter": "python",
   "pygments_lexer": "ipython3",
   "version": 3
  },
  "orig_nbformat": 2
 },
 "nbformat": 4,
 "nbformat_minor": 2,
 "cells": [
  {
   "cell_type": "code",
   "execution_count": null,
   "metadata": {},
   "outputs": [],
   "source": [
    "#### challenge 0.1\n",
    "zajecia = [\"wf\",\"informatyka\",\"relax\",\"mispy\",\"piateczek\"]\n",
    "\n",
    "dnityg= [\"Pon\",\"Wto\",\"Sro\",\"Czwar\",\"Pio\"]\n",
    "\n",
    "# wyprintuj zajecia od srody do piatku\n",
    "print(\"= zajecia od srody do piatku =\")\n",
    "for lekcje in zajecia[2:]:\n",
    "    print(lekcje)\n",
    "\n",
    "# wyprintuj oprocz srody\n",
    "print(\"= oprocz srody =\")\n",
    "for dzien, lekcje in zip(dnityg,zajecia):\n",
    "    if dzien != \"Sro\":\n",
    "        print(lekcje)"
   ]
  },
  {
   "cell_type": "code",
   "execution_count": null,
   "metadata": {},
   "outputs": [],
   "source": [
    "#### challenge 0.2\n",
    "zajecia = [[\"wf\"],\n",
    "           [\"informatyka\", \"nauka czytania\"],\n",
    "           [\"relax\", \"jedzenie\"],\n",
    "           [\"mispy\",\"mispy w domu\"],\n",
    "           [\"piateczek\", \"praca domowa z mispow\", \"Ilovemispy\", \"mispy w czasie snu\"]\n",
    "          ]\n",
    "\n",
    "dnityg= [\"Pon\",\"Wto\",\"Sro\",\"Czwar\",\"Pio\"]\n",
    "\n",
    "plan = list(zip(dnityg,zajecia))\n",
    "\n",
    "# zdefiniuj funkcje ktora poda ile jest zajec danego dnia\n",
    "# lista_zajec_z_dnia -> ile ich jest\n",
    "def lista_zajec_z_dnia(dzien):\n",
    "    return len(dzien[1])\n",
    "\n",
    "# po\n",
    "# posortuj dni po najbardziej zajetych\n",
    "for dzien in sorted(plan, reverse=True, key=lista_zajec_z_dnia):\n",
    "    print(dzien[0])\n",
    "\n",
    "#### challenge 0.3\n",
    "# napisz program ktory zdajdzie dzien z najwieksza iloscia mispow\n",
    "def ilosc_mispow_w_dniu(dzien):\n",
    "    iloscMisp = 0\n",
    "    for lekcja in dzien[1]:\n",
    "        if \"misp\" in lekcja.lower():\n",
    "            iloscMisp += 1\n",
    "    return iloscMisp\n",
    "\n",
    "print(max(plan, key=ilosc_mispow_w_dniu)[0])"
   ]
  }
 ]
}